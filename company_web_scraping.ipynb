{
 "cells": [
  {
   "cell_type": "code",
   "execution_count": 2,
   "id": "1d3e87e7",
   "metadata": {},
   "outputs": [],
   "source": [
    "import pandas as pd\n",
    "import requests\n",
    "from bs4 import BeautifulSoup"
   ]
  },
  {
   "cell_type": "code",
   "execution_count": 3,
   "id": "9c0c6d1e",
   "metadata": {},
   "outputs": [],
   "source": [
    "headers={'User-Agent':'Mozilla/5.0 (Windows NT 6.3; Win 64 ; x64) Apple WeKit /537.36(KHTML , like Gecko) Chrome/80.0.3987.162 Safari/537.36'}\n",
    "webpage=requests.get('https://www.ambitionbox.com/list-of-companies?locations=pune&sortBy=popular&page=1', headers=headers).text"
   ]
  },
  {
   "cell_type": "code",
   "execution_count": 4,
   "id": "4150c6dc",
   "metadata": {},
   "outputs": [],
   "source": [
    "soup=BeautifulSoup(webpage,'lxml')"
   ]
  },
  {
   "cell_type": "code",
   "execution_count": 5,
   "id": "967deed7",
   "metadata": {},
   "outputs": [],
   "source": [
    "company=soup.find_all('div',class_='companyCardWrapper')"
   ]
  },
  {
   "cell_type": "code",
   "execution_count": 6,
   "id": "4f43dd8a",
   "metadata": {},
   "outputs": [
    {
     "data": {
      "text/plain": [
       "20"
      ]
     },
     "execution_count": 6,
     "metadata": {},
     "output_type": "execute_result"
    }
   ],
   "source": [
    "len(company)"
   ]
  },
  {
   "cell_type": "code",
   "execution_count": 26,
   "id": "351507f5",
   "metadata": {},
   "outputs": [],
   "source": [
    "name=[]\n",
    "rating=[]\n",
    "reviews=[]\n",
    "for i in company:\n",
    "    name.append(i.find('h2').text.strip())\n",
    "    rating.append(i.find_all('span',class_='companyCardWrapper__companyRatingValue')[0].text.strip())\n",
    "    reviews.append(i.find('span',class_='companyCardWrapper__ActionCount').text.strip())"
   ]
  },
  {
   "cell_type": "code",
   "execution_count": 27,
   "id": "79ed8253",
   "metadata": {},
   "outputs": [
    {
     "data": {
      "text/plain": [
       "['3.8',\n",
       " '3.8',\n",
       " '3.9',\n",
       " '3.8',\n",
       " '3.9',\n",
       " '3.7',\n",
       " '4.0',\n",
       " '3.5',\n",
       " '3.8',\n",
       " '4.0',\n",
       " '4.2',\n",
       " '4.2',\n",
       " '4.1',\n",
       " '4.0',\n",
       " '3.5',\n",
       " '4.3',\n",
       " '3.9',\n",
       " '3.8',\n",
       " '3.6',\n",
       " '4.4']"
      ]
     },
     "execution_count": 27,
     "metadata": {},
     "output_type": "execute_result"
    }
   ],
   "source": [
    "rating"
   ]
  },
  {
   "cell_type": "code",
   "execution_count": 32,
   "id": "80a47f7a",
   "metadata": {},
   "outputs": [
    {
     "data": {
      "text/plain": [
       "<div class=\"companyCardWrapper\" itemprop=\"itemListElement\" itemscope=\"itemscope\" itemtype=\"http://schema.org/ListItem\"><meta content=\"1\" itemprop=\"position\"/> <meta content=\"TCS\" itemprop=\"name\"/> <meta content=\"Tata Consultancy Services\" itemprop=\"alternateName\"/> <meta content=\"https://www.ambitionbox.com/overview/tcs-overview\" itemprop=\"url\"/> <meta content=\"https://static.ambitionbox.com/alpha/company/photos/logos/tcs.jpg\" itemprop=\"image\"/> <div class=\"companyCardWrapper__primaryInformation\"><div class=\"companyCardWrapper__companyDetails\"><div class=\"companyCardWrapper__companyLogo\"><img alt=\"Tata Consultancy Services logo\" height=\"50\" loading=\"lazy\" onerror=\"this.onerror=null;this.src='/static/icons/company-placeholder.svg';\" src=\"https://static.ambitionbox.com/assets/v2/images/rs:fit:200:200:false:false/bG9jYWw6Ly8vbG9nb3Mvb3JpZ2luYWxzL3Rjcy5qcGc.webp\" width=\"50\"/></div> <div class=\"companyCardWrapper__metaInformation\"><div class=\"companyCardWrapper__header\"><div class=\"companyCardWrapper__companyPrimaryDetails\"><div class=\"companyCardWrapper__companyPrimaryDetailsTopSection\"><a class=\"companyCardWrapper__companyName companyCardWrapper__companyName--m8\" href=\"/overview/tcs-overview\"><h2 class=\"companyCardWrapper__companyName\" title=\"TCS\">\n",
       "\t\t\t\t\t\t\t\t\t\tTCS\n",
       "\t\t\t\t\t\t\t\t\t</h2></a> <!-- --> <button arialabel=\"Follow\" class=\"companyCardWrapper__FollowCTA g-btn g-btn--text g-btn--md\" title=\"Follow\" type=\"button\"><!-- --> <span class=\"g-btn__label g-btn__label--md g-btn__label--text g-btn__label--loader\">Follow</span> <!-- --></button></div></div> <div class=\"companyCardWrapper__companyRatingWrapper\"><div class=\"companyCardWrapper__companyRating rating-35\"><i class=\"icon icon-star\"></i> <span class=\"companyCardWrapper__companyRatingValue\">3.8</span></div></div></div> <div class=\"companyCardWrapper__secondaryInformation\"><div class=\"companyCardWrapper__ratingWrapper\"><div class=\"companyCardWrapper__interLinkingWrapper\"><span class=\"companyCardWrapper__interLinking\">\n",
       "\t\t\t\t\t\t\t\t\tIT Services &amp; Consulting | 1 Lakh+ Employees | Public | 56 years old | Pune +345 more\n",
       "\t\t\t\t\t\t\t\t</span></div> <!-- --> <div class=\"companyCardWrapper__ratingComparisonWrapper\"><div><div class=\"companyCardWrapper__ratingHeader\"><img height=\"14px\" src=\"/static/companyListing/ThumbsUp.svg\" width=\"14px\"/> <span class=\"companyCardWrapper__ratingHeader--high\">Highly Rated For</span></div> <span class=\"companyCardWrapper__ratingValues\">Job Security, Work Life Balance</span></div> <div><div class=\"companyCardWrapper__ratingHeader\"><img height=\"14px\" src=\"/static/companyListing/ThumbsDown.svg\" width=\"14px\"/> <span class=\"companyCardWrapper__ratingHeader--critical\">Critically Rated For</span></div> <span class=\"companyCardWrapper__ratingValues\">Promotions / Appraisal, Salary &amp; Benefits</span></div></div></div> <div class=\"companyCardWrapper__followWrapper\"><!-- --></div></div></div></div></div> <div class=\"companyCardWrapper__tertiaryInformation\"><a class=\"companyCardWrapper__ActionWrapper\" href=\"https://www.ambitionbox.com/reviews/tcs-reviews\" target=\"_blank\"><span class=\"companyCardWrapper__ActionCount\">74.8k</span> <span class=\"companyCardWrapper__ActionTitle\">Reviews</span></a><a class=\"companyCardWrapper__ActionWrapper\" href=\"https://www.ambitionbox.com/salaries/tcs-salaries\" target=\"_blank\"><span class=\"companyCardWrapper__ActionCount\">853.3k</span> <span class=\"companyCardWrapper__ActionTitle\">Salaries</span></a><a class=\"companyCardWrapper__ActionWrapper\" href=\"https://www.ambitionbox.com/interviews/tcs-interview-questions\" target=\"_blank\"><span class=\"companyCardWrapper__ActionCount\">6.8k</span> <span class=\"companyCardWrapper__ActionTitle\">Interviews</span></a><a class=\"companyCardWrapper__ActionWrapper\" href=\"https://www.ambitionbox.com/jobs/tcs-jobs\" target=\"_blank\"><span class=\"companyCardWrapper__ActionCount\">821</span> <span class=\"companyCardWrapper__ActionTitle\">Jobs</span></a><a class=\"companyCardWrapper__ActionWrapper\" href=\"https://www.ambitionbox.com/benefits/tcs-benefits\" target=\"_blank\"><span class=\"companyCardWrapper__ActionCount\">11.6k</span> <span class=\"companyCardWrapper__ActionTitle\">Benefits</span></a><a class=\"companyCardWrapper__ActionWrapper\" href=\"https://www.ambitionbox.com/photos/tcs-photos\" target=\"_blank\"><span class=\"companyCardWrapper__ActionCount\">77</span> <span class=\"companyCardWrapper__ActionTitle\">Photos</span></a></div> <div><!-- --></div></div>"
      ]
     },
     "execution_count": 32,
     "metadata": {},
     "output_type": "execute_result"
    }
   ],
   "source": [
    "company[0]"
   ]
  },
  {
   "cell_type": "code",
   "execution_count": 33,
   "id": "4b8a54b2",
   "metadata": {},
   "outputs": [],
   "source": [
    "d={'name':name,'rating':rating,'reviews':reviews}"
   ]
  },
  {
   "cell_type": "code",
   "execution_count": 35,
   "id": "1afc7fc2",
   "metadata": {},
   "outputs": [],
   "source": [
    "df=pd.DataFrame(d)"
   ]
  },
  {
   "cell_type": "code",
   "execution_count": 37,
   "id": "dbb7ab43",
   "metadata": {},
   "outputs": [
    {
     "name": "stderr",
     "output_type": "stream",
     "text": [
      "C:\\Users\\Vozon Comsof Pvt Ltd\\AppData\\Local\\Temp\\ipykernel_9708\\3636430056.py:19: FutureWarning: The frame.append method is deprecated and will be removed from pandas in a future version. Use pandas.concat instead.\n",
      "  final=final.append(df)\n",
      "C:\\Users\\Vozon Comsof Pvt Ltd\\AppData\\Local\\Temp\\ipykernel_9708\\3636430056.py:19: FutureWarning: The frame.append method is deprecated and will be removed from pandas in a future version. Use pandas.concat instead.\n",
      "  final=final.append(df)\n",
      "C:\\Users\\Vozon Comsof Pvt Ltd\\AppData\\Local\\Temp\\ipykernel_9708\\3636430056.py:19: FutureWarning: The frame.append method is deprecated and will be removed from pandas in a future version. Use pandas.concat instead.\n",
      "  final=final.append(df)\n",
      "C:\\Users\\Vozon Comsof Pvt Ltd\\AppData\\Local\\Temp\\ipykernel_9708\\3636430056.py:19: FutureWarning: The frame.append method is deprecated and will be removed from pandas in a future version. Use pandas.concat instead.\n",
      "  final=final.append(df)\n",
      "C:\\Users\\Vozon Comsof Pvt Ltd\\AppData\\Local\\Temp\\ipykernel_9708\\3636430056.py:19: FutureWarning: The frame.append method is deprecated and will be removed from pandas in a future version. Use pandas.concat instead.\n",
      "  final=final.append(df)\n",
      "C:\\Users\\Vozon Comsof Pvt Ltd\\AppData\\Local\\Temp\\ipykernel_9708\\3636430056.py:19: FutureWarning: The frame.append method is deprecated and will be removed from pandas in a future version. Use pandas.concat instead.\n",
      "  final=final.append(df)\n",
      "C:\\Users\\Vozon Comsof Pvt Ltd\\AppData\\Local\\Temp\\ipykernel_9708\\3636430056.py:19: FutureWarning: The frame.append method is deprecated and will be removed from pandas in a future version. Use pandas.concat instead.\n",
      "  final=final.append(df)\n",
      "C:\\Users\\Vozon Comsof Pvt Ltd\\AppData\\Local\\Temp\\ipykernel_9708\\3636430056.py:19: FutureWarning: The frame.append method is deprecated and will be removed from pandas in a future version. Use pandas.concat instead.\n",
      "  final=final.append(df)\n"
     ]
    }
   ],
   "source": [
    "final=pd.DataFrame()\n",
    "for j in range(1,11):\n",
    "    url='https://www.ambitionbox.com/list-of-companies?locations=pune&sortBy=popular&page={}'.format(j)\n",
    "    \n",
    "    headers={'User-Agent':'Mozilla/5.0 (Windows NT 6.3; Win 64 ; x64) Apple WeKit /537.36(KHTML , like Gecko) Chrome/80.0.3987.162 Safari/537.36'}\n",
    "    webpage=requests.get(url, headers=headers).text\n",
    "    soup=BeautifulSoup(webpage,'lxml')\n",
    "    company=soup.find_all('div',class_='companyCardWrapper')\n",
    "    \n",
    "    name=[]\n",
    "    rating=[]\n",
    "    reviews=[]\n",
    "    for i in company:\n",
    "        name.append(i.find('h2').text.strip())\n",
    "        rating.append(i.find_all('span',class_='companyCardWrapper__companyRatingValue')[0].text.strip())\n",
    "        reviews.append(i.find('span',class_='companyCardWrapper__ActionCount').text.strip())\n",
    "    d={'name':name,'rating':rating,'reviews':reviews}\n",
    "    df=pd.DataFrame(d)\n",
    "    final=final.append(df)\n",
    "    \n",
    "    "
   ]
  },
  {
   "cell_type": "code",
   "execution_count": 38,
   "id": "b70558b5",
   "metadata": {},
   "outputs": [
    {
     "data": {
      "text/plain": [
       "200"
      ]
     },
     "execution_count": 38,
     "metadata": {},
     "output_type": "execute_result"
    }
   ],
   "source": [
    "len(final)"
   ]
  },
  {
   "cell_type": "code",
   "execution_count": 41,
   "id": "9e14ca66",
   "metadata": {},
   "outputs": [
    {
     "data": {
      "text/html": [
       "<div>\n",
       "<style scoped>\n",
       "    .dataframe tbody tr th:only-of-type {\n",
       "        vertical-align: middle;\n",
       "    }\n",
       "\n",
       "    .dataframe tbody tr th {\n",
       "        vertical-align: top;\n",
       "    }\n",
       "\n",
       "    .dataframe thead th {\n",
       "        text-align: right;\n",
       "    }\n",
       "</style>\n",
       "<table border=\"1\" class=\"dataframe\">\n",
       "  <thead>\n",
       "    <tr style=\"text-align: right;\">\n",
       "      <th></th>\n",
       "      <th>name</th>\n",
       "      <th>rating</th>\n",
       "      <th>reviews</th>\n",
       "    </tr>\n",
       "  </thead>\n",
       "  <tbody>\n",
       "    <tr>\n",
       "      <th>0</th>\n",
       "      <td>TCS</td>\n",
       "      <td>3.8</td>\n",
       "      <td>74.8k</td>\n",
       "    </tr>\n",
       "    <tr>\n",
       "      <th>1</th>\n",
       "      <td>Infosys</td>\n",
       "      <td>3.8</td>\n",
       "      <td>32.6k</td>\n",
       "    </tr>\n",
       "    <tr>\n",
       "      <th>2</th>\n",
       "      <td>Cognizant</td>\n",
       "      <td>3.9</td>\n",
       "      <td>42.8k</td>\n",
       "    </tr>\n",
       "    <tr>\n",
       "      <th>3</th>\n",
       "      <td>Wipro</td>\n",
       "      <td>3.8</td>\n",
       "      <td>40.3k</td>\n",
       "    </tr>\n",
       "    <tr>\n",
       "      <th>4</th>\n",
       "      <td>Capgemini</td>\n",
       "      <td>3.9</td>\n",
       "      <td>34.8k</td>\n",
       "    </tr>\n",
       "    <tr>\n",
       "      <th>...</th>\n",
       "      <td>...</td>\n",
       "      <td>...</td>\n",
       "      <td>...</td>\n",
       "    </tr>\n",
       "    <tr>\n",
       "      <th>15</th>\n",
       "      <td>Xdbs</td>\n",
       "      <td>3.3</td>\n",
       "      <td>335</td>\n",
       "    </tr>\n",
       "    <tr>\n",
       "      <th>16</th>\n",
       "      <td>Aloha Technology</td>\n",
       "      <td>3.4</td>\n",
       "      <td>328</td>\n",
       "    </tr>\n",
       "    <tr>\n",
       "      <th>17</th>\n",
       "      <td>Lear Corporation</td>\n",
       "      <td>4.1</td>\n",
       "      <td>451</td>\n",
       "    </tr>\n",
       "    <tr>\n",
       "      <th>18</th>\n",
       "      <td>DMart</td>\n",
       "      <td>4.0</td>\n",
       "      <td>4k</td>\n",
       "    </tr>\n",
       "    <tr>\n",
       "      <th>19</th>\n",
       "      <td>Brembo Brake India</td>\n",
       "      <td>4.4</td>\n",
       "      <td>336</td>\n",
       "    </tr>\n",
       "  </tbody>\n",
       "</table>\n",
       "<p>200 rows × 3 columns</p>\n",
       "</div>"
      ],
      "text/plain": [
       "                  name rating reviews\n",
       "0                  TCS    3.8   74.8k\n",
       "1              Infosys    3.8   32.6k\n",
       "2            Cognizant    3.9   42.8k\n",
       "3                Wipro    3.8   40.3k\n",
       "4            Capgemini    3.9   34.8k\n",
       "..                 ...    ...     ...\n",
       "15                Xdbs    3.3     335\n",
       "16    Aloha Technology    3.4     328\n",
       "17    Lear Corporation    4.1     451\n",
       "18               DMart    4.0      4k\n",
       "19  Brembo Brake India    4.4     336\n",
       "\n",
       "[200 rows x 3 columns]"
      ]
     },
     "execution_count": 41,
     "metadata": {},
     "output_type": "execute_result"
    }
   ],
   "source": [
    "final\n"
   ]
  },
  {
   "cell_type": "code",
   "execution_count": 42,
   "id": "3dbbf5ca",
   "metadata": {},
   "outputs": [],
   "source": [
    "import csv"
   ]
  },
  {
   "cell_type": "code",
   "execution_count": 47,
   "id": "10619d58",
   "metadata": {},
   "outputs": [],
   "source": [
    "final.to_csv('company_pune', sep=',', index=False, encoding='utf-8')"
   ]
  },
  {
   "cell_type": "code",
   "execution_count": null,
   "id": "a97da37e",
   "metadata": {},
   "outputs": [],
   "source": []
  }
 ],
 "metadata": {
  "kernelspec": {
   "display_name": "Python 3 (ipykernel)",
   "language": "python",
   "name": "python3"
  },
  "language_info": {
   "codemirror_mode": {
    "name": "ipython",
    "version": 3
   },
   "file_extension": ".py",
   "mimetype": "text/x-python",
   "name": "python",
   "nbconvert_exporter": "python",
   "pygments_lexer": "ipython3",
   "version": "3.9.13"
  }
 },
 "nbformat": 4,
 "nbformat_minor": 5
}
